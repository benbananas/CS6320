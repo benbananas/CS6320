{
 "cells": [
  {
   "cell_type": "code",
   "execution_count": 1,
   "metadata": {},
   "outputs": [],
   "source": [
    "import pandas as pd\n",
    "import numpy as np\n",
    "import psycopg2\n",
    "np.random.seed(42)\n",
    "exams = pd.read_csv('exams.csv')"
   ]
  },
  {
   "cell_type": "code",
   "execution_count": 2,
   "metadata": {},
   "outputs": [
    {
     "name": "stdout",
     "output_type": "stream",
     "text": [
      "   gender race/ethnicity parental level of education     lunch  \\\n",
      "0  female        group D                some college  standard   \n",
      "\n",
      "  test preparation course  math score  reading score  writing score  \n",
      "0               completed          59             70             78  \n",
      "Index(['gender', 'race/ethnicity', 'parental level of education', 'lunch',\n",
      "       'test preparation course', 'math score', 'reading score',\n",
      "       'writing score'],\n",
      "      dtype='object')\n"
     ]
    }
   ],
   "source": [
    "print(exams.head(1))\n",
    "print(exams.columns)"
   ]
  },
  {
   "cell_type": "code",
   "execution_count": 3,
   "metadata": {},
   "outputs": [],
   "source": [
    "exams.drop(['gender', 'race/ethnicity', 'parental level of education', 'lunch', 'test preparation course'], axis=1, inplace=True)"
   ]
  },
  {
   "cell_type": "code",
   "execution_count": 4,
   "metadata": {},
   "outputs": [
    {
     "data": {
      "text/html": [
       "<div>\n",
       "<style scoped>\n",
       "    .dataframe tbody tr th:only-of-type {\n",
       "        vertical-align: middle;\n",
       "    }\n",
       "\n",
       "    .dataframe tbody tr th {\n",
       "        vertical-align: top;\n",
       "    }\n",
       "\n",
       "    .dataframe thead th {\n",
       "        text-align: right;\n",
       "    }\n",
       "</style>\n",
       "<table border=\"1\" class=\"dataframe\">\n",
       "  <thead>\n",
       "    <tr style=\"text-align: right;\">\n",
       "      <th></th>\n",
       "      <th>math score</th>\n",
       "      <th>reading score</th>\n",
       "      <th>writing score</th>\n",
       "    </tr>\n",
       "  </thead>\n",
       "  <tbody>\n",
       "    <tr>\n",
       "      <th>0</th>\n",
       "      <td>59</td>\n",
       "      <td>70</td>\n",
       "      <td>78</td>\n",
       "    </tr>\n",
       "    <tr>\n",
       "      <th>1</th>\n",
       "      <td>96</td>\n",
       "      <td>93</td>\n",
       "      <td>87</td>\n",
       "    </tr>\n",
       "    <tr>\n",
       "      <th>2</th>\n",
       "      <td>57</td>\n",
       "      <td>76</td>\n",
       "      <td>77</td>\n",
       "    </tr>\n",
       "    <tr>\n",
       "      <th>3</th>\n",
       "      <td>70</td>\n",
       "      <td>70</td>\n",
       "      <td>63</td>\n",
       "    </tr>\n",
       "    <tr>\n",
       "      <th>4</th>\n",
       "      <td>83</td>\n",
       "      <td>85</td>\n",
       "      <td>86</td>\n",
       "    </tr>\n",
       "    <tr>\n",
       "      <th>...</th>\n",
       "      <td>...</td>\n",
       "      <td>...</td>\n",
       "      <td>...</td>\n",
       "    </tr>\n",
       "    <tr>\n",
       "      <th>995</th>\n",
       "      <td>77</td>\n",
       "      <td>77</td>\n",
       "      <td>71</td>\n",
       "    </tr>\n",
       "    <tr>\n",
       "      <th>996</th>\n",
       "      <td>80</td>\n",
       "      <td>66</td>\n",
       "      <td>66</td>\n",
       "    </tr>\n",
       "    <tr>\n",
       "      <th>997</th>\n",
       "      <td>67</td>\n",
       "      <td>86</td>\n",
       "      <td>86</td>\n",
       "    </tr>\n",
       "    <tr>\n",
       "      <th>998</th>\n",
       "      <td>80</td>\n",
       "      <td>72</td>\n",
       "      <td>62</td>\n",
       "    </tr>\n",
       "    <tr>\n",
       "      <th>999</th>\n",
       "      <td>58</td>\n",
       "      <td>47</td>\n",
       "      <td>45</td>\n",
       "    </tr>\n",
       "  </tbody>\n",
       "</table>\n",
       "<p>1000 rows × 3 columns</p>\n",
       "</div>"
      ],
      "text/plain": [
       "     math score  reading score  writing score\n",
       "0            59             70             78\n",
       "1            96             93             87\n",
       "2            57             76             77\n",
       "3            70             70             63\n",
       "4            83             85             86\n",
       "..          ...            ...            ...\n",
       "995          77             77             71\n",
       "996          80             66             66\n",
       "997          67             86             86\n",
       "998          80             72             62\n",
       "999          58             47             45\n",
       "\n",
       "[1000 rows x 3 columns]"
      ]
     },
     "execution_count": 4,
     "metadata": {},
     "output_type": "execute_result"
    }
   ],
   "source": [
    "exams"
   ]
  },
  {
   "cell_type": "code",
   "execution_count": 31,
   "metadata": {},
   "outputs": [],
   "source": [
    "operands = ['>', '<', '=', '>=', '<=', '!=']\n",
    "operands_one_hots = np.diag(np.ones(6))\n",
    "nr_cols = 6     # total nr of [int] cols in both tables\n",
    "cols_names = ['math score', 'reading score', 'writing score', 'math score2', 'reading score2', 'writing score2']\n",
    "\n",
    "''' Makes n queries randomly + uniformly\n",
    "\n",
    "tables: 2 dataframes\n",
    "table_names: list of two possible vals - 2 tables\n",
    "n: number of queries to be generated\n",
    "max_nr_preds: max number of predicates per query\n",
    "'''\n",
    "def generate_queries(tables, table_names, n = 20000, max_nr_preds = 1):\n",
    "    def generate_query():\n",
    "\n",
    "        sql_query = ''\n",
    "        sql_query_vec = []\n",
    "\n",
    "        # if join the first bit of sql query is 1 --> that is indicator of join\n",
    "        # [join_bit]\n",
    "        sql_query_vec.append(np.random.randint(0, 2))\n",
    "        table_ind = np.random.randint(0, 2)\n",
    "\n",
    "        # [join_bit, tb1_bit, tb2_bit]\n",
    "        if sql_query_vec[0]:\n",
    "            # You are joining --> select * from tb1, tb2 where tb1 == tb2\n",
    "            sql_query = f'SELECT * FROM {table_names[0]}, {table_names[1]} WHERE {table_names[0]} = {table_names[1]} AND'\n",
    "            sql_query_vec.extend([1, 1]) # <- if join, dont need AND_bit or OR_bit\n",
    "        else:\n",
    "            sql_query = f'SELECT * FROM {table_names[table_ind]} WHERE'\n",
    "            if table_ind:\n",
    "                sql_query_vec.extend([0, 1])\n",
    "            else:\n",
    "                sql_query_vec.extend([1, 0])\n",
    "\n",
    "        # nr_predicates = {1,2}\n",
    "        nr_predicates = 1 if sql_query_vec[0] else np.random.randint(1, max_nr_preds + 1)\n",
    "\n",
    "        # Need to edit this to be the columns of the tables in equation\n",
    "\n",
    "        column = np.random.choice(range(0, tables[table_ind].shape[1]), nr_predicates) if table_ind == 0 else np.random.choice(range(tables[table_ind].shape[1], nr_cols), nr_predicates)\n",
    "        # column = np.random.choice(['math score', 'reading score', 'writing score'], nr_predicates)\n",
    "\n",
    "        # sign is either array of len 1 or 2\n",
    "        # 6 operands\n",
    "        sign = np.random.choice(range(6), nr_predicates)\n",
    "\n",
    "        # Each loop should end in something like \n",
    "        # [..., <columns_bits~nr_cols> <sign_bits~6> <value real>]\n",
    "        for predicate in range(nr_predicates):\n",
    "            value = np.random.randint(np.min(tables[table_ind][cols_names[column[predicate]]]), np.max(tables[table_ind][cols_names[column[predicate]]]))\n",
    "            if predicate == 0:\n",
    "                sql_query += f' {cols_names[column[predicate]]} {operands[sign[predicate]]} {value}'\n",
    "            else:\n",
    "                if np.random.randint(0, 2):\n",
    "                    sql_query += f' AND {cols_names[column[predicate]]} {operands[sign[predicate]]} {value}'\n",
    "                    sql_query_vec.extend([1, 0])\n",
    "                elif sql_query_vec[0]:  # if u r joining, we treat it as no extra AND\n",
    "                    sql_query += f' AND {cols_names[column[predicate]]} {operands[sign[predicate]]} {value}'\n",
    "                    sql_query_vec.extend([0, 0])\n",
    "                else:\n",
    "                    sql_query += f' OR {cols_names[column[predicate]]} {operands[sign[predicate]]} {value}'\n",
    "                    sql_query_vec.extend([0, 1])\n",
    "                    \n",
    "\n",
    "            tmp = [0] * 6\n",
    "            tmp[column[predicate]] = 1\n",
    "            sql_query_vec.extend(tmp)\n",
    "\n",
    "            tmp = [0] * 6\n",
    "            tmp[sign[predicate]] = 1\n",
    "            sql_query_vec.extend(tmp)\n",
    "\n",
    "            sql_query_vec.append(value)\n",
    "\n",
    "        if nr_predicates == 1:\n",
    "            sql_query_vec.extend([0] * (nr_cols + 6 + 1 + 2)) \n",
    "\n",
    "        return sql_query, sql_query_vec\n",
    "\n",
    "    sqlQuery = []\n",
    "    vectorQuery = []\n",
    "    for i in range(n):\n",
    "        sql_query, sql_query_vec = generate_query()\n",
    "        sqlQuery.append(sql_query)\n",
    "        vectorQuery.append(sql_query_vec)\n",
    "\n",
    "    \n",
    "    return sqlQuery, np.array(vectorQuery)"
   ]
  },
  {
   "cell_type": "code",
   "execution_count": 35,
   "metadata": {},
   "outputs": [],
   "source": [
    "# for a single tabled query, have format: \n",
    "# [<join_bit=0> <tb1_bit> <tb2_bit> <column id [6 bits one hot]> <sign id [6 bits ont hit]> <value num> <AND_bit> <OR_bit> <column id [6 bits one hot]> <sign id [6 bits ont hit]> ] or just 0s if predicate = 1\n",
    "# for joins, we have:\n",
    "# select * from tb1, tb2 where tb1.col = tb2.col AND tb1.col/tb2.col <sign> val\n",
    "# [<join_bit=1> <tb1_bit=1> <tb2_bit=1> <column id [6 bits one hot]> <sign id [6 bits ont hit]> <value num> <AND_bit=0> <OR_bit=0> <0s> ]\n",
    "# note: only AND statement is allowed, but in the vectorization, we treat it as if the AND is not there (one predicate problem)\n",
    "sqlQuery, vectorQuery = generate_queries([exams, 100 * exams.rename({'math score' : 'math score2', 'reading score':'reading score2', 'writing score':'writing score2'}, axis=1)], ['exams', 'exams2'], n = 10, max_nr_preds = 2)"
   ]
  },
  {
   "cell_type": "code",
   "execution_count": 36,
   "metadata": {},
   "outputs": [
    {
     "data": {
      "text/plain": [
       "['SELECT * FROM exams2 WHERE math score2 != 3827',\n",
       " 'SELECT * FROM exams2 WHERE reading score2 = 5772 OR reading score2 > 3647',\n",
       " 'SELECT * FROM exams, exams2 WHERE exams = exams2 AND math score2 = 2159',\n",
       " 'SELECT * FROM exams, exams2 WHERE exams = exams2 AND writing score < 81',\n",
       " 'SELECT * FROM exams WHERE writing score > 15 AND math score < 25',\n",
       " 'SELECT * FROM exams WHERE writing score != 21 AND writing score < 30',\n",
       " 'SELECT * FROM exams, exams2 WHERE exams = exams2 AND math score < 15',\n",
       " 'SELECT * FROM exams, exams2 WHERE exams = exams2 AND math score2 <= 8658',\n",
       " 'SELECT * FROM exams WHERE writing score = 34',\n",
       " 'SELECT * FROM exams, exams2 WHERE exams = exams2 AND math score2 >= 3148']"
      ]
     },
     "execution_count": 36,
     "metadata": {},
     "output_type": "execute_result"
    }
   ],
   "source": [
    "sqlQuery"
   ]
  },
  {
   "cell_type": "code",
   "execution_count": 37,
   "metadata": {},
   "outputs": [
    {
     "data": {
      "text/plain": [
       "array([[   0,    0,    1,    0,    0,    0,    1,    0,    0,    0,    0,\n",
       "           0,    0,    0,    1, 3827,    0,    0,    0,    0,    0,    0,\n",
       "           0,    0,    0,    0,    0,    0,    0,    0,    0],\n",
       "       [   0,    0,    1,    0,    0,    0,    0,    1,    0,    0,    0,\n",
       "           1,    0,    0,    0, 5772,    0,    1,    0,    0,    0,    0,\n",
       "           1,    0,    1,    0,    0,    0,    0,    0, 3647],\n",
       "       [   1,    1,    1,    0,    0,    0,    1,    0,    0,    0,    0,\n",
       "           1,    0,    0,    0, 2159,    0,    0,    0,    0,    0,    0,\n",
       "           0,    0,    0,    0,    0,    0,    0,    0,    0],\n",
       "       [   1,    1,    1,    0,    0,    1,    0,    0,    0,    0,    1,\n",
       "           0,    0,    0,    0,   81,    0,    0,    0,    0,    0,    0,\n",
       "           0,    0,    0,    0,    0,    0,    0,    0,    0],\n",
       "       [   0,    1,    0,    0,    0,    1,    0,    0,    0,    1,    0,\n",
       "           0,    0,    0,    0,   15,    1,    0,    1,    0,    0,    0,\n",
       "           0,    0,    0,    1,    0,    0,    0,    0,   25],\n",
       "       [   0,    1,    0,    0,    0,    1,    0,    0,    0,    0,    0,\n",
       "           0,    0,    0,    1,   21,    1,    0,    0,    0,    1,    0,\n",
       "           0,    0,    0,    1,    0,    0,    0,    0,   30],\n",
       "       [   1,    1,    1,    1,    0,    0,    0,    0,    0,    0,    1,\n",
       "           0,    0,    0,    0,   15,    0,    0,    0,    0,    0,    0,\n",
       "           0,    0,    0,    0,    0,    0,    0,    0,    0],\n",
       "       [   1,    1,    1,    0,    0,    0,    1,    0,    0,    0,    0,\n",
       "           0,    0,    1,    0, 8658,    0,    0,    0,    0,    0,    0,\n",
       "           0,    0,    0,    0,    0,    0,    0,    0,    0],\n",
       "       [   0,    1,    0,    0,    0,    1,    0,    0,    0,    0,    0,\n",
       "           1,    0,    0,    0,   34,    0,    0,    0,    0,    0,    0,\n",
       "           0,    0,    0,    0,    0,    0,    0,    0,    0],\n",
       "       [   1,    1,    1,    0,    0,    0,    1,    0,    0,    0,    0,\n",
       "           0,    1,    0,    0, 3148,    0,    0,    0,    0,    0,    0,\n",
       "           0,    0,    0,    0,    0,    0,    0,    0,    0]])"
      ]
     },
     "execution_count": 37,
     "metadata": {},
     "output_type": "execute_result"
    }
   ],
   "source": [
    "vectorQuery"
   ]
  },
  {
   "cell_type": "code",
   "execution_count": 13,
   "metadata": {},
   "outputs": [],
   "source": [
    "# user is postgres\n",
    "# port is 5433"
   ]
  },
  {
   "cell_type": "code",
   "execution_count": 16,
   "metadata": {},
   "outputs": [
    {
     "name": "stdout",
     "output_type": "stream",
     "text": [
      "1000\n",
      "1000\n"
     ]
    }
   ],
   "source": [
    "hostname = 'localhost'\n",
    "database = 'postgres'\n",
    "username = 'postgres'\n",
    "pwd = None # need to add this\n",
    "port_id = 5433\n",
    "connection, cur = None, None\n",
    "\n",
    "try:\n",
    "  # need to download postgres and supply your own info \n",
    "  # with password and stuff\n",
    "  connection = psycopg2.connect(host = hostname,\n",
    "                                dbname = database,\n",
    "                                user = username,\n",
    "                                password = pwd,\n",
    "                                port = port_id)\n",
    "\n",
    "  cur = connection.cursor()\n",
    "\n",
    "  cur.execute('explain (format json, analyze) select * from exams_sample')\n",
    "  result = cur.fetchone()[0][0]\n",
    "  print(result['Plan']['Plan Rows'])\n",
    "  print(result['Plan']['Actual Rows'])\n",
    "\n",
    "except Exception as error:\n",
    "  print(error)\n",
    "finally:\n",
    "  if cur:\n",
    "    cur.close()\n",
    "  if connection:\n",
    "    connection.close()\n"
   ]
  },
  {
   "cell_type": "code",
   "execution_count": null,
   "metadata": {},
   "outputs": [],
   "source": []
  }
 ],
 "metadata": {
  "kernelspec": {
   "display_name": "Python 3",
   "language": "python",
   "name": "python3"
  },
  "language_info": {
   "codemirror_mode": {
    "name": "ipython",
    "version": 3
   },
   "file_extension": ".py",
   "mimetype": "text/x-python",
   "name": "python",
   "nbconvert_exporter": "python",
   "pygments_lexer": "ipython3",
   "version": "3.10.2"
  },
  "orig_nbformat": 4,
  "vscode": {
   "interpreter": {
    "hash": "1a938cad0285fb97da95749bad54013de2f7716195e8d8355c3374c91291d2af"
   }
  }
 },
 "nbformat": 4,
 "nbformat_minor": 2
}
