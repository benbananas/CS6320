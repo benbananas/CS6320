{
 "cells": [
  {
   "cell_type": "code",
   "execution_count": 1,
   "metadata": {},
   "outputs": [],
   "source": [
    "import pandas as pd\n",
    "import numpy as np\n",
    "import psycopg2\n",
    "np.random.seed(42)\n",
    "exams = pd.read_csv('exams.csv')"
   ]
  },
  {
   "cell_type": "code",
   "execution_count": 2,
   "metadata": {},
   "outputs": [
    {
     "name": "stdout",
     "output_type": "stream",
     "text": [
      "   gender race/ethnicity parental level of education     lunch  \\\n",
      "0  female        group D                some college  standard   \n",
      "\n",
      "  test preparation course  math score  reading score  writing score  \n",
      "0               completed          59             70             78  \n",
      "Index(['gender', 'race/ethnicity', 'parental level of education', 'lunch',\n",
      "       'test preparation course', 'math score', 'reading score',\n",
      "       'writing score'],\n",
      "      dtype='object')\n"
     ]
    }
   ],
   "source": [
    "print(exams.head(1))\n",
    "print(exams.columns)"
   ]
  },
  {
   "cell_type": "code",
   "execution_count": 3,
   "metadata": {},
   "outputs": [],
   "source": [
    "# for i in exams.columns:\n",
    "#   print(pd.value_counts(exams[i]))\n",
    "#   print()"
   ]
  },
  {
   "cell_type": "code",
   "execution_count": 4,
   "metadata": {},
   "outputs": [],
   "source": [
    "def generate_queries(table, table_name, n = 20000, max_nr_preds = 1):\n",
    "    def generate_query():\n",
    "        sql_query = f'SELECT * FROM {table_name} WHERE'\n",
    "        nr_predicates = np.random.randint(1, max_nr_preds + 1)\n",
    "        sign = np.random.choice(['>', '<', '=', '>=', '<=', '!='], nr_predicates)\n",
    "        column = np.random.choice(['math score', 'reading score', 'writing score'], nr_predicates)\n",
    "        for predicate in range(nr_predicates):\n",
    "            value = np.random.randint(np.min(table[column[predicate]]), np.max(table[column[predicate]]))\n",
    "            if predicate == 0:\n",
    "                sql_query += f' {column[predicate]} {sign[predicate]} {value}'\n",
    "            else:\n",
    "                sql_query += f' AND {column[predicate]} {sign[predicate]} {value}'\n",
    "        return sql_query\n",
    "\n",
    "    res = []\n",
    "    for i in range(n):\n",
    "        res.append(generate_query())\n",
    "    return res"
   ]
  },
  {
   "cell_type": "code",
   "execution_count": 5,
   "metadata": {},
   "outputs": [
    {
     "data": {
      "text/plain": [
       "['SELECT * FROM exams WHERE math score >= 29',\n",
       " 'SELECT * FROM exams WHERE math score <= 97',\n",
       " 'SELECT * FROM exams WHERE writing score = 38',\n",
       " 'SELECT * FROM exams WHERE math score != 16',\n",
       " 'SELECT * FROM exams WHERE reading score >= 88 AND reading score != 84']"
      ]
     },
     "execution_count": 5,
     "metadata": {},
     "output_type": "execute_result"
    }
   ],
   "source": [
    "generate_queries(exams, 'exams', n = 5, max_nr_preds = 2)"
   ]
  },
  {
   "cell_type": "code",
   "execution_count": 6,
   "metadata": {},
   "outputs": [],
   "source": [
    "# user is postgres\n",
    "# port is 5433"
   ]
  },
  {
   "cell_type": "code",
   "execution_count": 7,
   "metadata": {},
   "outputs": [
    {
     "name": "stdout",
     "output_type": "stream",
     "text": [
      "connection to server at \"localhost\" (::1), port 5433 failed: fe_sendauth: no password supplied\n",
      "\n"
     ]
    }
   ],
   "source": [
    "hostname = 'localhost'\n",
    "database = 'postgres'\n",
    "username = 'postgres'\n",
    "pwd = None # need to add this\n",
    "port_id = 5433\n",
    "connection, cur = None, None\n",
    "\n",
    "try:\n",
    "  # need to download postgres and supply your own info \n",
    "  # with password and stuff\n",
    "  connection = psycopg2.connect(host = hostname,\n",
    "                                dbname = database,\n",
    "                                user = username,\n",
    "                                password = pwd,\n",
    "                                port = port_id)\n",
    "\n",
    "  cur = connection.cursor()\n",
    "\n",
    "  cur.execute('explain (format json, analyze) select * from exams_sample')\n",
    "  result = cur.fetchone()[0][0]\n",
    "  print(result['Plan']['Plan Rows'])\n",
    "  print(result['Plan']['Actual Rows'])\n",
    "\n",
    "except Exception as error:\n",
    "  print(error)\n",
    "finally:\n",
    "  if cur:\n",
    "    cur.close()\n",
    "  if connection:\n",
    "    connection.close()\n"
   ]
  },
  {
   "cell_type": "code",
   "execution_count": null,
   "metadata": {},
   "outputs": [],
   "source": []
  }
 ],
 "metadata": {
  "kernelspec": {
   "display_name": "Python 3",
   "language": "python",
   "name": "python3"
  },
  "language_info": {
   "codemirror_mode": {
    "name": "ipython",
    "version": 3
   },
   "file_extension": ".py",
   "mimetype": "text/x-python",
   "name": "python",
   "nbconvert_exporter": "python",
   "pygments_lexer": "ipython3",
   "version": "3.10.2"
  },
  "orig_nbformat": 4,
  "vscode": {
   "interpreter": {
    "hash": "1a938cad0285fb97da95749bad54013de2f7716195e8d8355c3374c91291d2af"
   }
  }
 },
 "nbformat": 4,
 "nbformat_minor": 2
}
